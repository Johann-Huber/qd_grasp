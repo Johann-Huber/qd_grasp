{
 "cells": [
  {
   "cell_type": "markdown",
   "metadata": {},
   "source": [
    "# Phylogenetic Analysis"
   ]
  },
  {
   "cell_type": "code",
   "execution_count": 1,
   "metadata": {},
   "outputs": [
    {
     "name": "stdout",
     "output_type": "stream",
     "text": [
      "Root directory /home/giuseppe/src/cmans\n"
     ]
    }
   ],
   "source": [
    "import numpy as np\n",
    "import pickle as pkl\n",
    "import os, sys\n",
    "import gzip\n",
    "cwd = os.getcwd()\n",
    "folder = os.path.basename(cwd)\n",
    "cwd = os.path.dirname(cwd)\n",
    "folder = os.path.basename(cwd)\n",
    "ROOT = os.path.join(cwd)\n",
    "\n",
    "sys.path.append(ROOT)\n",
    "\n",
    "from analysis import utils\n",
    "from parameters import params"
   ]
  },
  {
   "cell_type": "markdown",
   "metadata": {},
   "source": [
    "## Load Data"
   ]
  },
  {
   "cell_type": "code",
   "execution_count": 2,
   "metadata": {},
   "outputs": [
    {
     "name": "stdout",
     "output_type": "stream",
     "text": [
      "No CMA-NS_prob experiment for Walker2D env.\n"
     ]
    }
   ],
   "source": [
    "env_type = 'RW'\n",
    "\n",
    "if env_type == 'RW':\n",
    "    env = 'Walker2D'\n",
    "elif env_type == 'Dummy':\n",
    "    env = 'Dummy'\n",
    "elif env_type == 'CB':\n",
    "    env = 'CollectBall'\n",
    "elif env_type == 'AM':\n",
    "    env = 'AntMaze'\n",
    "elif env_type == 'arm':\n",
    "    env = 'NDofArm'\n",
    "else:\n",
    "    raise ValueError('Wrong environment type given: {}'.format(env_type))\n",
    "\n",
    "EXP_ROOT = '/mnt/7e0bad1b-406b-4582-b7a1-84327ae60fc4/cmans/'\n",
    "    \n",
    "exp_path = os.path.join(ROOT, 'experiment_data')\n",
    "# exp_path = EXP_ROOT\n",
    "exp_types = ['NS', 'NSGA-II', 'CMA-NS', 'CMA-NS_prob']\n",
    "paths = []\n",
    "\n",
    "avail_exps = []\n",
    "for exp_type in exp_types:\n",
    "#     path = os.path.join(exp_path, \"{}/{}_{}\".format(env, env, exp_type))\n",
    "    path = os.path.join(exp_path, \"{}_{}\".format(env, exp_type))\n",
    "\n",
    "    if not os.path.exists(path):\n",
    "        path = None\n",
    "        print(\"No {} experiment for {} env.\".format(exp_type, env))\n",
    "        continue\n",
    "    paths.append(path)\n",
    "    avail_exps.append(exp_type)\n",
    "exp_types = avail_exps"
   ]
  },
  {
   "cell_type": "code",
   "execution_count": null,
   "metadata": {},
   "outputs": [],
   "source": [
    "grid_parameters = registered_envs[env]['grid']\n",
    "best_run = {}\n",
    "for exp in exp_types:\n",
    "    best_run[exp] = 0"
   ]
  },
  {
   "cell_type": "code",
   "execution_count": 5,
   "metadata": {},
   "outputs": [
    {
     "name": "stdout",
     "output_type": "stream",
     "text": [
      "/home/giuseppe/src/cmans/experiment_data/Walker2D_NSGA-II/2020_09_24_17:31_169786/analyzed_data/phyl_tree.pkl does not exists.\n",
      "/home/giuseppe/src/cmans/experiment_data/Walker2D_CMA-NS/2020_10_02_13:46_375388/analyzed_data/phyl_tree.pkl does not exists.\n",
      "/home/giuseppe/src/cmans/experiment_data/Walker2D_CMA-NS/2020_10_02_13:59_875427/analyzed_data/phyl_tree.pkl does not exists.\n"
     ]
    }
   ],
   "source": [
    "trees = {}\n",
    "for exp, path in zip(exp_types, paths):\n",
    "    runs = utils.get_runs_list(path)\n",
    "    run_tree = []\n",
    "    \n",
    "    for run in runs:\n",
    "        tree_path = os.path.join(path, run, 'analyzed_data/phyl_tree.pkl')\n",
    "        \n",
    "        if os.path.exists(tree_path):\n",
    "            with gzip.open(tree_path) as f: \n",
    "                indivs_by_id, indivs_by_generation = pkl.load(f)    \n",
    "            run_tree.append({'id':indivs_by_id, 'gen': indivs_by_generation})\n",
    "            \n",
    "        else:\n",
    "            print(\"{} does not exists.\".format(tree_path))\n",
    "        \n",
    "        trees[exp] = run_tree"
   ]
  },
  {
   "cell_type": "markdown",
   "metadata": {},
   "source": [
    "## Find rewarding lineages"
   ]
  },
  {
   "cell_type": "code",
   "execution_count": 59,
   "metadata": {},
   "outputs": [],
   "source": [
    "for exp in trees:\n",
    "    for tree in trees[exp]:\n",
    "        lineages = {}\n",
    "        for agent_id in tree['id']:\n",
    "            agent = tree['id'][agent_id]\n",
    "            if agent['reward']>0:\n",
    "                parent = agent['parent']\n",
    "#                 print(\"{}: {}\".format(agent_id, parent))\n",
    "                lineage = [agent_id]\n",
    "                \n",
    "                while True:\n",
    "                    if parent is None:\n",
    "                        break\n",
    "                    lineage.append(parent)\n",
    "                    agent = tree['id'][parent]\n",
    "                    parent = agent['parent']\n",
    "                \n",
    "                if agent['id'] not in lineages:\n",
    "                    lineages[agent['id']] = [lineage]\n",
    "                else:\n",
    "                    lineages[agent['id']].append(lineage)\n",
    "                \n",
    "                "
   ]
  },
  {
   "cell_type": "code",
   "execution_count": 60,
   "metadata": {},
   "outputs": [
    {
     "data": {
      "text/plain": [
       "{3: [[3]],\n",
       " 48: [[48]],\n",
       " 63: [[63]],\n",
       " 64: [[64]],\n",
       " 71: [[71]],\n",
       " 79: [[79]],\n",
       " 82: [[265, 82],\n",
       "  [624, 378, 264, 82],\n",
       "  [625, 378, 264, 82],\n",
       "  [748, 624, 378, 264, 82],\n",
       "  [1597, 1311, 1272, 842, 378, 264, 82],\n",
       "  [1596, 1311, 1272, 842, 378, 264, 82],\n",
       "  [1847, 1698, 1310, 1272, 842, 378, 264, 82],\n",
       "  [1797, 1537, 1306, 1273, 842, 378, 264, 82],\n",
       "  [1726, 1597, 1311, 1272, 842, 378, 264, 82],\n",
       "  [1727, 1597, 1311, 1272, 842, 378, 264, 82],\n",
       "  [1922, 1797, 1537, 1306, 1273, 842, 378, 264, 82],\n",
       "  [1907, 1847, 1698, 1310, 1272, 842, 378, 264, 82]],\n",
       " 40: [[181, 40], [485, 181, 40], [484, 181, 40]],\n",
       " 91: [[373, 282, 91]],\n",
       " 26: [[465, 153, 26]],\n",
       " 88: [[678, 363, 276, 88],\n",
       "  [618, 276, 88],\n",
       "  [1494, 1049, 773, 678, 363, 276, 88],\n",
       "  [1457, 773, 678, 363, 276, 88],\n",
       "  [1649, 1457, 773, 678, 363, 276, 88],\n",
       "  [1508, 1494, 1049, 773, 678, 363, 276, 88]],\n",
       " 1: [[671, 103, 1],\n",
       "  [1078, 814, 698, 387, 103, 1],\n",
       "  [1686, 1386, 1131, 1079, 814, 698, 387, 103, 1]],\n",
       " 59: [[501, 418, 219, 59], [829, 418, 219, 59]],\n",
       " 86: [[1067, 727, 539, 480, 86],\n",
       "  [1101, 904, 718, 480, 86],\n",
       "  [1111, 1067, 727, 539, 480, 86],\n",
       "  [1953, 1661, 1492, 1110, 1067, 727, 539, 480, 86]],\n",
       " 36: [[1223, 994, 808, 633, 489, 172, 36],\n",
       "  [1214, 808, 633, 489, 172, 36],\n",
       "  [1207, 995, 808, 633, 489, 172, 36],\n",
       "  [1530, 1375, 1215, 808, 633, 489, 172, 36],\n",
       "  [2027, 1554, 1313, 1223, 994, 808, 633, 489, 172, 36]],\n",
       " 35: [[1119, 938, 753, 335, 170, 35],\n",
       "  [1625, 1119, 938, 753, 335, 170, 35],\n",
       "  [1624, 1119, 938, 753, 335, 170, 35],\n",
       "  [1526, 938, 753, 335, 170, 35],\n",
       "  [1793, 1658, 1158, 979, 764, 609, 171, 35],\n",
       "  [2097, 1755, 1119, 938, 753, 335, 170, 35],\n",
       "  [2090, 1658, 1158, 979, 764, 609, 171, 35]],\n",
       " 75: [[2028, 1807, 1681, 1293, 1028, 473, 251, 75]]}"
      ]
     },
     "execution_count": 60,
     "metadata": {},
     "output_type": "execute_result"
    }
   ],
   "source": [
    "lineages"
   ]
  },
  {
   "cell_type": "code",
   "execution_count": null,
   "metadata": {},
   "outputs": [],
   "source": [
    "tree_id"
   ]
  }
 ],
 "metadata": {
  "kernelspec": {
   "display_name": "Python 3",
   "language": "python",
   "name": "python3"
  },
  "language_info": {
   "codemirror_mode": {
    "name": "ipython",
    "version": 3
   },
   "file_extension": ".py",
   "mimetype": "text/x-python",
   "name": "python",
   "nbconvert_exporter": "python",
   "pygments_lexer": "ipython3",
   "version": "3.7.7"
  }
 },
 "nbformat": 4,
 "nbformat_minor": 4
}
